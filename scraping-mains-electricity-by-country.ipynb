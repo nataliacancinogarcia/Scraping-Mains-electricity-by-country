{
 "cells": [
  {
   "cell_type": "markdown",
   "id": "44684241",
   "metadata": {
    "papermill": {
     "duration": 0.007577,
     "end_time": "2024-10-10T03:55:35.761872",
     "exception": false,
     "start_time": "2024-10-10T03:55:35.754295",
     "status": "completed"
    },
    "tags": []
   },
   "source": [
    "# Introduction: \n",
    "\n",
    "Electrical systems vary significantly around the world, including differences in plug types, voltages, and frequencies. While efforts have been made to standardize these systems in certain regions, many variations still exist globally. This notebook aims to scrape data from the [Wikipedia Mains electricity by country](https://en.wikipedia.org/wiki/Mains_electricity_by_country) page , providing a concise summary of the key electrical characteristics used in different countries.\n"
   ]
  },
  {
   "cell_type": "markdown",
   "id": "8d781189",
   "metadata": {
    "papermill": {
     "duration": 0.006808,
     "end_time": "2024-10-10T03:55:35.775988",
     "exception": false,
     "start_time": "2024-10-10T03:55:35.769180",
     "status": "completed"
    },
    "tags": []
   },
   "source": [
    "## Setup and Libraries:\n",
    "\n",
    "In this section, we will import the required libraries, including BeautifulSoup for parsing HTML, pandas for data manipulation and storage, re for regular expressions, and requests for making HTTP requests.\n",
    "\n",
    "This version gives a more detailed explanation of why each library is being used, which can be helpful for readers to understand their purposes"
   ]
  },
  {
   "cell_type": "code",
   "execution_count": 1,
   "id": "77181674",
   "metadata": {
    "execution": {
     "iopub.execute_input": "2024-10-10T03:55:35.792381Z",
     "iopub.status.busy": "2024-10-10T03:55:35.791878Z",
     "iopub.status.idle": "2024-10-10T03:55:37.159093Z",
     "shell.execute_reply": "2024-10-10T03:55:37.157764Z"
    },
    "papermill": {
     "duration": 1.37894,
     "end_time": "2024-10-10T03:55:37.162150",
     "exception": false,
     "start_time": "2024-10-10T03:55:35.783210",
     "status": "completed"
    },
    "tags": []
   },
   "outputs": [],
   "source": [
    "# This library is used to send HTTP requests to websites, allowing us to fetch their HTML content.\n",
    "import requests  \n",
    "\n",
    "# BeautifulSoup helps to parse the HTML content and extract specific elements like tables, headings, and text.\n",
    "from bs4 import BeautifulSoup  \n",
    "\n",
    "# Pandas is used to store and manipulate data in a tabular format (DataFrame), making it easy to clean and export data.\n",
    "import pandas as pd  \n",
    "\n",
    "# The re library provides support for regular expressions, which are used to search, match, and manipulate text patterns.\n",
    "import re  "
   ]
  },
  {
   "cell_type": "markdown",
   "id": "7659db3b",
   "metadata": {
    "papermill": {
     "duration": 0.007138,
     "end_time": "2024-10-10T03:55:37.176887",
     "exception": false,
     "start_time": "2024-10-10T03:55:37.169749",
     "status": "completed"
    },
    "tags": []
   },
   "source": [
    "## Requesting the Webpage:\n",
    "\n",
    "In this section, we define a variable that holds the URL of the webpage we want to scrape. Using the requests library, we send an HTTP GET request to this URL. A successful response will be indicated by a status code of <Response [200]>, which means the page was retrieved successfully and is ready for further processing."
   ]
  },
  {
   "cell_type": "code",
   "execution_count": 2,
   "id": "205c8d05",
   "metadata": {
    "execution": {
     "iopub.execute_input": "2024-10-10T03:55:37.193522Z",
     "iopub.status.busy": "2024-10-10T03:55:37.192915Z",
     "iopub.status.idle": "2024-10-10T03:55:37.257711Z",
     "shell.execute_reply": "2024-10-10T03:55:37.256335Z"
    },
    "papermill": {
     "duration": 0.076781,
     "end_time": "2024-10-10T03:55:37.260724",
     "exception": false,
     "start_time": "2024-10-10T03:55:37.183943",
     "status": "completed"
    },
    "tags": []
   },
   "outputs": [
    {
     "data": {
      "text/plain": [
       "<Response [200]>"
      ]
     },
     "execution_count": 2,
     "metadata": {},
     "output_type": "execute_result"
    }
   ],
   "source": [
    "URL = \"https://en.wikipedia.org/wiki/Mains_electricity_by_country\"\n",
    "\n",
    "response = requests.get(URL)\n",
    "response"
   ]
  },
  {
   "cell_type": "markdown",
   "id": "cc4fe672",
   "metadata": {
    "papermill": {
     "duration": 0.007912,
     "end_time": "2024-10-10T03:55:37.276820",
     "exception": false,
     "start_time": "2024-10-10T03:55:37.268908",
     "status": "completed"
    },
    "tags": []
   },
   "source": [
    "## Parsing the HTML Content:\n",
    "\n",
    "Since we successfully retrieved the webpage, we can proceed with parsing the HTML content. Using BeautifulSoup, we transform the raw HTML into a structured format that allows us to easily navigate and extract specific elements, such as tables, headings, or text"
   ]
  },
  {
   "cell_type": "code",
   "execution_count": 3,
   "id": "2842e807",
   "metadata": {
    "execution": {
     "iopub.execute_input": "2024-10-10T03:55:37.293178Z",
     "iopub.status.busy": "2024-10-10T03:55:37.292736Z",
     "iopub.status.idle": "2024-10-10T03:55:37.696353Z",
     "shell.execute_reply": "2024-10-10T03:55:37.695061Z"
    },
    "papermill": {
     "duration": 0.414997,
     "end_time": "2024-10-10T03:55:37.699168",
     "exception": false,
     "start_time": "2024-10-10T03:55:37.284171",
     "status": "completed"
    },
    "tags": []
   },
   "outputs": [],
   "source": [
    "soup = BeautifulSoup(response.content, \"html.parser\")"
   ]
  },
  {
   "cell_type": "markdown",
   "id": "953527c8",
   "metadata": {
    "papermill": {
     "duration": 0.00683,
     "end_time": "2024-10-10T03:55:37.713422",
     "exception": false,
     "start_time": "2024-10-10T03:55:37.706592",
     "status": "completed"
    },
    "tags": []
   },
   "source": [
    "## Finding the Table :\n",
    "\n",
    "Using the browser’s Developer Tools, we inspect the structure of the webpage to understand how the content is organized. This helps us locate the table containing the information we need. Once identified, we use BeautifulSoup to extract the table and further break down its components, such as headers and rows, to ensure that all relevant data is captured.\n",
    "\n",
    "We filter out elements with **colspan=\"2\"** to handle the multi-level headers in the table, allowing us to focus on the specific headers and data rows needed for our analysis."
   ]
  },
  {
   "cell_type": "code",
   "execution_count": 4,
   "id": "fd750cb8",
   "metadata": {
    "execution": {
     "iopub.execute_input": "2024-10-10T03:55:37.730279Z",
     "iopub.status.busy": "2024-10-10T03:55:37.729001Z",
     "iopub.status.idle": "2024-10-10T03:55:37.751929Z",
     "shell.execute_reply": "2024-10-10T03:55:37.750504Z"
    },
    "papermill": {
     "duration": 0.034278,
     "end_time": "2024-10-10T03:55:37.754781",
     "exception": false,
     "start_time": "2024-10-10T03:55:37.720503",
     "status": "completed"
    },
    "tags": []
   },
   "outputs": [
    {
     "name": "stdout",
     "output_type": "stream",
     "text": [
      "['Country or territory', 'Plug type[a]', 'National plugstandard[2]', 'Fre\\xadquen\\xadcy[7]', 'Notes', 'Resi\\xaddential[7]', 'Three-phase[8]', 'vteElectricity delivery', 'Concepts', 'Sources', 'Non-renewable', 'Renewable', 'Generation', 'Transmissionanddistribution', 'Failure modes', 'Protectivedevices', 'Economicsand policies', 'Statistics andproduction']\n"
     ]
    }
   ],
   "source": [
    "# Find table\n",
    "table = soup.find('table')  \n",
    "# Find all <th> elements\n",
    "th_elements = soup.find_all('th')\n",
    "\n",
    "# Filter out <th> elements that have colspan=\"2\" and extract text\n",
    "th_texts = [\n",
    "    th.get_text(strip=True) \n",
    "    for th in th_elements \n",
    "    if th.get('colspan') != '2'\n",
    "]\n",
    "\n",
    "# Print the list of extracted text\n",
    "print(th_texts)"
   ]
  },
  {
   "cell_type": "markdown",
   "id": "88d1b58d",
   "metadata": {
    "papermill": {
     "duration": 0.007551,
     "end_time": "2024-10-10T03:55:37.769767",
     "exception": false,
     "start_time": "2024-10-10T03:55:37.762216",
     "status": "completed"
    },
    "tags": []
   },
   "source": [
    "### Verifing and Cleaing Headers: \n",
    "\n",
    "Upon inspection, we find additional elements among the headers that are not relevant or useful for our analysis. To ensure that our data remains clean and focused, we remove these unnecessary elements, retaining only the headers that contain valuable information."
   ]
  },
  {
   "cell_type": "code",
   "execution_count": 5,
   "id": "10479357",
   "metadata": {
    "execution": {
     "iopub.execute_input": "2024-10-10T03:55:37.786588Z",
     "iopub.status.busy": "2024-10-10T03:55:37.786054Z",
     "iopub.status.idle": "2024-10-10T03:55:37.793327Z",
     "shell.execute_reply": "2024-10-10T03:55:37.791966Z"
    },
    "papermill": {
     "duration": 0.018693,
     "end_time": "2024-10-10T03:55:37.795931",
     "exception": false,
     "start_time": "2024-10-10T03:55:37.777238",
     "status": "completed"
    },
    "tags": []
   },
   "outputs": [
    {
     "name": "stdout",
     "output_type": "stream",
     "text": [
      "['Country or territory', 'Plug type[a]', 'National plugstandard[2]', 'Fre\\xadquen\\xadcy[7]', 'Notes', 'Resi\\xaddential[7]', 'Three-phase[8]']\n"
     ]
    }
   ],
   "source": [
    "# Extract the first 7 elements from the th_texts list\n",
    "first_seven_th_texts = th_texts[:7]\n",
    "\n",
    "# Print the first 8 elements\n",
    "print(first_seven_th_texts)"
   ]
  },
  {
   "cell_type": "markdown",
   "id": "8a13c1a4",
   "metadata": {
    "papermill": {
     "duration": 0.007465,
     "end_time": "2024-10-10T03:55:37.810905",
     "exception": false,
     "start_time": "2024-10-10T03:55:37.803440",
     "status": "completed"
    },
    "tags": []
   },
   "source": [
    "The headers contain unwanted characters such as newline characters (\\n), soft hyphens (\\xad), and additional links. It is necessary to remove these elements to ensure the headers are clean and properly formatted for further analysis."
   ]
  },
  {
   "cell_type": "code",
   "execution_count": 6,
   "id": "6b76d94a",
   "metadata": {
    "execution": {
     "iopub.execute_input": "2024-10-10T03:55:37.828072Z",
     "iopub.status.busy": "2024-10-10T03:55:37.827670Z",
     "iopub.status.idle": "2024-10-10T03:55:37.836369Z",
     "shell.execute_reply": "2024-10-10T03:55:37.834974Z"
    },
    "papermill": {
     "duration": 0.020164,
     "end_time": "2024-10-10T03:55:37.838992",
     "exception": false,
     "start_time": "2024-10-10T03:55:37.818828",
     "status": "completed"
    },
    "tags": []
   },
   "outputs": [
    {
     "name": "stdout",
     "output_type": "stream",
     "text": [
      "['Country or territory', 'Plug type', 'National plugstandard', 'Frequency', 'Notes', 'Residential', 'Three-phase']\n"
     ]
    }
   ],
   "source": [
    "# Function to clean headers\n",
    "def clean_headers(headers):\n",
    "    cleaned_headers = []\n",
    "    for header in headers:\n",
    "        # Remove all text inside square brackets [] and any newlines or soft hyphens (\\xad)\n",
    "        clean_header = re.sub(r'\\[.*?\\]|\\n|\\xad', '', header)\n",
    "        cleaned_headers.append(clean_header.strip())\n",
    "    return cleaned_headers\n",
    "\n",
    "# Clean the headers\n",
    "cleaned_heads = clean_headers(first_seven_th_texts)\n",
    "print(cleaned_heads)"
   ]
  },
  {
   "cell_type": "markdown",
   "id": "3d5fa851",
   "metadata": {
    "papermill": {
     "duration": 0.008182,
     "end_time": "2024-10-10T03:55:37.855125",
     "exception": false,
     "start_time": "2024-10-10T03:55:37.846943",
     "status": "completed"
    },
    "tags": []
   },
   "source": [
    "### Manually Reordering and Naming the Headers:\n",
    "\n",
    "Since the headers do not appear in the same order as shown on the website, we manually rearrange them to match the desired structure. This ensures consistency between the scraped data and the original table format on the webpage, making our data more accurate and easy to analyze."
   ]
  },
  {
   "cell_type": "code",
   "execution_count": 7,
   "id": "16317cf2",
   "metadata": {
    "execution": {
     "iopub.execute_input": "2024-10-10T03:55:37.872109Z",
     "iopub.status.busy": "2024-10-10T03:55:37.871678Z",
     "iopub.status.idle": "2024-10-10T03:55:37.877658Z",
     "shell.execute_reply": "2024-10-10T03:55:37.876283Z"
    },
    "papermill": {
     "duration": 0.017592,
     "end_time": "2024-10-10T03:55:37.880316",
     "exception": false,
     "start_time": "2024-10-10T03:55:37.862724",
     "status": "completed"
    },
    "tags": []
   },
   "outputs": [],
   "source": [
    "cleaned_heads = ['Country or territory', 'Plug type', 'National plugstandard','Residential Voltage (V)', 'Three-phase Voltage (V)', 'Frequency (Hz)', 'Notes']"
   ]
  },
  {
   "cell_type": "markdown",
   "id": "8ef367f6",
   "metadata": {
    "papermill": {
     "duration": 0.007162,
     "end_time": "2024-10-10T03:55:37.895891",
     "exception": false,
     "start_time": "2024-10-10T03:55:37.888729",
     "status": "completed"
    },
    "tags": []
   },
   "source": [
    "### Extracting Data from the Table:\n",
    "\n",
    "While extracting the remaining elements of the table, we noticed that the first few rows contain repeated headers instead of data. To ensure the data is clean and relevant, we remove these redundant header rows, keeping only the rows that contain the actual data we need for analysis.\n"
   ]
  },
  {
   "cell_type": "code",
   "execution_count": 8,
   "id": "472f0310",
   "metadata": {
    "execution": {
     "iopub.execute_input": "2024-10-10T03:55:37.912743Z",
     "iopub.status.busy": "2024-10-10T03:55:37.912326Z",
     "iopub.status.idle": "2024-10-10T03:55:37.988203Z",
     "shell.execute_reply": "2024-10-10T03:55:37.986897Z"
    },
    "papermill": {
     "duration": 0.088017,
     "end_time": "2024-10-10T03:55:37.991448",
     "exception": false,
     "start_time": "2024-10-10T03:55:37.903431",
     "status": "completed"
    },
    "tags": []
   },
   "outputs": [],
   "source": [
    "# Find the <tbody> element in the table\n",
    "tbody = soup.find('tbody')\n",
    "# Find the <re> element in the table, which are the rows of the table\n",
    "rows = tbody.find_all('tr')\n",
    "\n",
    "# Create table\n",
    "table_data = []\n",
    "# Insert text to the table\n",
    "for tr in rows:\n",
    "        # Extract all cells (<td> and <th>) inside each row\n",
    "    cells = [cell.get_text(strip=True) for cell in tr.find_all(['td', 'th'])]\n",
    "    table_data.append(cells)\n",
    "# Remove the first two rows\n",
    "table_data = table_data[2:]     "
   ]
  },
  {
   "cell_type": "code",
   "execution_count": 9,
   "id": "a15c46b6",
   "metadata": {
    "execution": {
     "iopub.execute_input": "2024-10-10T03:55:38.009142Z",
     "iopub.status.busy": "2024-10-10T03:55:38.008718Z",
     "iopub.status.idle": "2024-10-10T03:55:38.044619Z",
     "shell.execute_reply": "2024-10-10T03:55:38.043312Z"
    },
    "papermill": {
     "duration": 0.047785,
     "end_time": "2024-10-10T03:55:38.047462",
     "exception": false,
     "start_time": "2024-10-10T03:55:37.999677",
     "status": "completed"
    },
    "tags": []
   },
   "outputs": [
    {
     "data": {
      "text/html": [
       "<div>\n",
       "<style scoped>\n",
       "    .dataframe tbody tr th:only-of-type {\n",
       "        vertical-align: middle;\n",
       "    }\n",
       "\n",
       "    .dataframe tbody tr th {\n",
       "        vertical-align: top;\n",
       "    }\n",
       "\n",
       "    .dataframe thead th {\n",
       "        text-align: right;\n",
       "    }\n",
       "</style>\n",
       "<table border=\"1\" class=\"dataframe\">\n",
       "  <thead>\n",
       "    <tr style=\"text-align: right;\">\n",
       "      <th></th>\n",
       "      <th>Country or territory</th>\n",
       "      <th>Plug type</th>\n",
       "      <th>National plugstandard</th>\n",
       "      <th>Residential Voltage (V)</th>\n",
       "      <th>Three-phase Voltage (V)</th>\n",
       "      <th>Frequency (Hz)</th>\n",
       "      <th>Notes</th>\n",
       "    </tr>\n",
       "  </thead>\n",
       "  <tbody>\n",
       "    <tr>\n",
       "      <th>0</th>\n",
       "      <td>Afghanistan</td>\n",
       "      <td>C, F</td>\n",
       "      <td></td>\n",
       "      <td>220V</td>\n",
       "      <td>380 V</td>\n",
       "      <td>50Hz</td>\n",
       "      <td></td>\n",
       "    </tr>\n",
       "    <tr>\n",
       "      <th>1</th>\n",
       "      <td>Albania</td>\n",
       "      <td>C, F</td>\n",
       "      <td></td>\n",
       "      <td>230 V</td>\n",
       "      <td>400 V</td>\n",
       "      <td>50 Hz</td>\n",
       "      <td></td>\n",
       "    </tr>\n",
       "    <tr>\n",
       "      <th>2</th>\n",
       "      <td>Algeria</td>\n",
       "      <td>C, F</td>\n",
       "      <td></td>\n",
       "      <td>240 V</td>\n",
       "      <td>400 V</td>\n",
       "      <td>50 Hz</td>\n",
       "      <td></td>\n",
       "    </tr>\n",
       "    <tr>\n",
       "      <th>3</th>\n",
       "      <td>American Samoa</td>\n",
       "      <td>A, B, F, I</td>\n",
       "      <td></td>\n",
       "      <td>120 V</td>\n",
       "      <td>208 V</td>\n",
       "      <td>60 Hz</td>\n",
       "      <td></td>\n",
       "    </tr>\n",
       "    <tr>\n",
       "      <th>4</th>\n",
       "      <td>Andorra</td>\n",
       "      <td>C, F</td>\n",
       "      <td></td>\n",
       "      <td>230 V</td>\n",
       "      <td>400 V</td>\n",
       "      <td>50 Hz</td>\n",
       "      <td></td>\n",
       "    </tr>\n",
       "    <tr>\n",
       "      <th>...</th>\n",
       "      <td>...</td>\n",
       "      <td>...</td>\n",
       "      <td>...</td>\n",
       "      <td>...</td>\n",
       "      <td>...</td>\n",
       "      <td>...</td>\n",
       "      <td>...</td>\n",
       "    </tr>\n",
       "    <tr>\n",
       "      <th>223</th>\n",
       "      <td>Venezuela</td>\n",
       "      <td>A, B</td>\n",
       "      <td></td>\n",
       "      <td>120 V208 V240 V</td>\n",
       "      <td>115/220 V220/440 V230/460 V[72]</td>\n",
       "      <td>60 Hz</td>\n",
       "      <td></td>\n",
       "    </tr>\n",
       "    <tr>\n",
       "      <th>224</th>\n",
       "      <td>Vietnam</td>\n",
       "      <td>A, B, C, D, F, G</td>\n",
       "      <td>TCVN 6188-1</td>\n",
       "      <td>220 V</td>\n",
       "      <td>380 V</td>\n",
       "      <td>50 Hz</td>\n",
       "      <td>Majority of households use unearthed hybrid so...</td>\n",
       "    </tr>\n",
       "    <tr>\n",
       "      <th>225</th>\n",
       "      <td>Yemen</td>\n",
       "      <td>A, D, G</td>\n",
       "      <td></td>\n",
       "      <td>240 V</td>\n",
       "      <td>400 V</td>\n",
       "      <td>50 Hz</td>\n",
       "      <td></td>\n",
       "    </tr>\n",
       "    <tr>\n",
       "      <th>226</th>\n",
       "      <td>Zambia</td>\n",
       "      <td>C, D, G</td>\n",
       "      <td></td>\n",
       "      <td>230 V</td>\n",
       "      <td>400 V</td>\n",
       "      <td>50 Hz</td>\n",
       "      <td></td>\n",
       "    </tr>\n",
       "    <tr>\n",
       "      <th>227</th>\n",
       "      <td>Zimbabwe</td>\n",
       "      <td>D, G</td>\n",
       "      <td></td>\n",
       "      <td>220 V</td>\n",
       "      <td>415 V</td>\n",
       "      <td>50 Hz</td>\n",
       "      <td></td>\n",
       "    </tr>\n",
       "  </tbody>\n",
       "</table>\n",
       "<p>228 rows × 7 columns</p>\n",
       "</div>"
      ],
      "text/plain": [
       "    Country or territory         Plug type National plugstandard  \\\n",
       "0            Afghanistan              C, F                         \n",
       "1                Albania              C, F                         \n",
       "2                Algeria              C, F                         \n",
       "3         American Samoa        A, B, F, I                         \n",
       "4                Andorra              C, F                         \n",
       "..                   ...               ...                   ...   \n",
       "223            Venezuela              A, B                         \n",
       "224              Vietnam  A, B, C, D, F, G           TCVN 6188-1   \n",
       "225                Yemen           A, D, G                         \n",
       "226               Zambia           C, D, G                         \n",
       "227             Zimbabwe              D, G                         \n",
       "\n",
       "    Residential Voltage (V)          Three-phase Voltage (V) Frequency (Hz)  \\\n",
       "0                      220V                            380 V           50Hz   \n",
       "1                     230 V                            400 V          50 Hz   \n",
       "2                     240 V                            400 V          50 Hz   \n",
       "3                     120 V                            208 V          60 Hz   \n",
       "4                     230 V                            400 V          50 Hz   \n",
       "..                      ...                              ...            ...   \n",
       "223         120 V208 V240 V  115/220 V220/440 V230/460 V[72]          60 Hz   \n",
       "224                   220 V                            380 V          50 Hz   \n",
       "225                   240 V                            400 V          50 Hz   \n",
       "226                   230 V                            400 V          50 Hz   \n",
       "227                   220 V                            415 V          50 Hz   \n",
       "\n",
       "                                                 Notes  \n",
       "0                                                       \n",
       "1                                                       \n",
       "2                                                       \n",
       "3                                                       \n",
       "4                                                       \n",
       "..                                                 ...  \n",
       "223                                                     \n",
       "224  Majority of households use unearthed hybrid so...  \n",
       "225                                                     \n",
       "226                                                     \n",
       "227                                                     \n",
       "\n",
       "[228 rows x 7 columns]"
      ]
     },
     "execution_count": 9,
     "metadata": {},
     "output_type": "execute_result"
    }
   ],
   "source": [
    "# Create the DataFrame\n",
    "Df_table_data = pd.DataFrame(table_data, columns=cleaned_heads)\n",
    "Df_table_data"
   ]
  },
  {
   "cell_type": "markdown",
   "id": "d0343412",
   "metadata": {
    "papermill": {
     "duration": 0.007637,
     "end_time": "2024-10-10T03:55:38.063263",
     "exception": false,
     "start_time": "2024-10-10T03:55:38.055626",
     "status": "completed"
    },
    "tags": []
   },
   "source": [
    "### Removing Links from Data:\n",
    "\n",
    "Since some of the data contains embedded links, we need to remove these to ensure the dataset is clean and focused on the textual information. "
   ]
  },
  {
   "cell_type": "code",
   "execution_count": 10,
   "id": "0f286fcf",
   "metadata": {
    "execution": {
     "iopub.execute_input": "2024-10-10T03:55:38.084495Z",
     "iopub.status.busy": "2024-10-10T03:55:38.082544Z",
     "iopub.status.idle": "2024-10-10T03:55:38.126738Z",
     "shell.execute_reply": "2024-10-10T03:55:38.121636Z"
    },
    "papermill": {
     "duration": 0.058544,
     "end_time": "2024-10-10T03:55:38.130853",
     "exception": false,
     "start_time": "2024-10-10T03:55:38.072309",
     "status": "completed"
    },
    "tags": []
   },
   "outputs": [
    {
     "data": {
      "text/html": [
       "<div>\n",
       "<style scoped>\n",
       "    .dataframe tbody tr th:only-of-type {\n",
       "        vertical-align: middle;\n",
       "    }\n",
       "\n",
       "    .dataframe tbody tr th {\n",
       "        vertical-align: top;\n",
       "    }\n",
       "\n",
       "    .dataframe thead th {\n",
       "        text-align: right;\n",
       "    }\n",
       "</style>\n",
       "<table border=\"1\" class=\"dataframe\">\n",
       "  <thead>\n",
       "    <tr style=\"text-align: right;\">\n",
       "      <th></th>\n",
       "      <th>Country or territory</th>\n",
       "      <th>Plug type</th>\n",
       "      <th>National plugstandard</th>\n",
       "      <th>Residential Voltage (V)</th>\n",
       "      <th>Three-phase Voltage (V)</th>\n",
       "      <th>Frequency (Hz)</th>\n",
       "      <th>Notes</th>\n",
       "    </tr>\n",
       "  </thead>\n",
       "  <tbody>\n",
       "    <tr>\n",
       "      <th>0</th>\n",
       "      <td>Afghanistan</td>\n",
       "      <td>C, F</td>\n",
       "      <td></td>\n",
       "      <td>220V</td>\n",
       "      <td>380 V</td>\n",
       "      <td>50Hz</td>\n",
       "      <td></td>\n",
       "    </tr>\n",
       "    <tr>\n",
       "      <th>1</th>\n",
       "      <td>Albania</td>\n",
       "      <td>C, F</td>\n",
       "      <td></td>\n",
       "      <td>230 V</td>\n",
       "      <td>400 V</td>\n",
       "      <td>50 Hz</td>\n",
       "      <td></td>\n",
       "    </tr>\n",
       "    <tr>\n",
       "      <th>2</th>\n",
       "      <td>Algeria</td>\n",
       "      <td>C, F</td>\n",
       "      <td></td>\n",
       "      <td>240 V</td>\n",
       "      <td>400 V</td>\n",
       "      <td>50 Hz</td>\n",
       "      <td></td>\n",
       "    </tr>\n",
       "    <tr>\n",
       "      <th>3</th>\n",
       "      <td>American Samoa</td>\n",
       "      <td>A, B, F, I</td>\n",
       "      <td></td>\n",
       "      <td>120 V</td>\n",
       "      <td>208 V</td>\n",
       "      <td>60 Hz</td>\n",
       "      <td></td>\n",
       "    </tr>\n",
       "    <tr>\n",
       "      <th>4</th>\n",
       "      <td>Andorra</td>\n",
       "      <td>C, F</td>\n",
       "      <td></td>\n",
       "      <td>230 V</td>\n",
       "      <td>400 V</td>\n",
       "      <td>50 Hz</td>\n",
       "      <td></td>\n",
       "    </tr>\n",
       "    <tr>\n",
       "      <th>...</th>\n",
       "      <td>...</td>\n",
       "      <td>...</td>\n",
       "      <td>...</td>\n",
       "      <td>...</td>\n",
       "      <td>...</td>\n",
       "      <td>...</td>\n",
       "      <td>...</td>\n",
       "    </tr>\n",
       "    <tr>\n",
       "      <th>223</th>\n",
       "      <td>Venezuela</td>\n",
       "      <td>A, B</td>\n",
       "      <td></td>\n",
       "      <td>120 V208 V240 V</td>\n",
       "      <td>115/220 V220/440 V230/460 V</td>\n",
       "      <td>60 Hz</td>\n",
       "      <td></td>\n",
       "    </tr>\n",
       "    <tr>\n",
       "      <th>224</th>\n",
       "      <td>Vietnam</td>\n",
       "      <td>A, B, C, D, F, G</td>\n",
       "      <td>TCVN 6188-1</td>\n",
       "      <td>220 V</td>\n",
       "      <td>380 V</td>\n",
       "      <td>50 Hz</td>\n",
       "      <td>Majority of households use unearthed hybrid so...</td>\n",
       "    </tr>\n",
       "    <tr>\n",
       "      <th>225</th>\n",
       "      <td>Yemen</td>\n",
       "      <td>A, D, G</td>\n",
       "      <td></td>\n",
       "      <td>240 V</td>\n",
       "      <td>400 V</td>\n",
       "      <td>50 Hz</td>\n",
       "      <td></td>\n",
       "    </tr>\n",
       "    <tr>\n",
       "      <th>226</th>\n",
       "      <td>Zambia</td>\n",
       "      <td>C, D, G</td>\n",
       "      <td></td>\n",
       "      <td>230 V</td>\n",
       "      <td>400 V</td>\n",
       "      <td>50 Hz</td>\n",
       "      <td></td>\n",
       "    </tr>\n",
       "    <tr>\n",
       "      <th>227</th>\n",
       "      <td>Zimbabwe</td>\n",
       "      <td>D, G</td>\n",
       "      <td></td>\n",
       "      <td>220 V</td>\n",
       "      <td>415 V</td>\n",
       "      <td>50 Hz</td>\n",
       "      <td></td>\n",
       "    </tr>\n",
       "  </tbody>\n",
       "</table>\n",
       "<p>228 rows × 7 columns</p>\n",
       "</div>"
      ],
      "text/plain": [
       "    Country or territory         Plug type National plugstandard  \\\n",
       "0            Afghanistan              C, F                         \n",
       "1                Albania              C, F                         \n",
       "2                Algeria              C, F                         \n",
       "3         American Samoa        A, B, F, I                         \n",
       "4                Andorra              C, F                         \n",
       "..                   ...               ...                   ...   \n",
       "223            Venezuela              A, B                         \n",
       "224              Vietnam  A, B, C, D, F, G           TCVN 6188-1   \n",
       "225                Yemen           A, D, G                         \n",
       "226               Zambia           C, D, G                         \n",
       "227             Zimbabwe              D, G                         \n",
       "\n",
       "    Residential Voltage (V)      Three-phase Voltage (V) Frequency (Hz)  \\\n",
       "0                      220V                        380 V           50Hz   \n",
       "1                     230 V                        400 V          50 Hz   \n",
       "2                     240 V                        400 V          50 Hz   \n",
       "3                     120 V                        208 V          60 Hz   \n",
       "4                     230 V                        400 V          50 Hz   \n",
       "..                      ...                          ...            ...   \n",
       "223         120 V208 V240 V  115/220 V220/440 V230/460 V          60 Hz   \n",
       "224                   220 V                        380 V          50 Hz   \n",
       "225                   240 V                        400 V          50 Hz   \n",
       "226                   230 V                        400 V          50 Hz   \n",
       "227                   220 V                        415 V          50 Hz   \n",
       "\n",
       "                                                 Notes  \n",
       "0                                                       \n",
       "1                                                       \n",
       "2                                                       \n",
       "3                                                       \n",
       "4                                                       \n",
       "..                                                 ...  \n",
       "223                                                     \n",
       "224  Majority of households use unearthed hybrid so...  \n",
       "225                                                     \n",
       "226                                                     \n",
       "227                                                     \n",
       "\n",
       "[228 rows x 7 columns]"
      ]
     },
     "execution_count": 10,
     "metadata": {},
     "output_type": "execute_result"
    }
   ],
   "source": [
    "# Create function to remove brackets and value inside using Regex\n",
    "def remove_specific_bracket_value(value):\n",
    "    return re.sub(r'\\[.*?\\]', '', value).strip()\n",
    "\n",
    "# Apply the function only to specific columns\n",
    "Df_table_data['Plug type'] = Df_table_data['Plug type'].apply(remove_specific_bracket_value)\n",
    "Df_table_data['National plugstandard'] = Df_table_data['National plugstandard'].apply(remove_specific_bracket_value)\n",
    "Df_table_data['Residential Voltage (V)'] = Df_table_data['Residential Voltage (V)'].apply(remove_specific_bracket_value)\n",
    "Df_table_data['Three-phase Voltage (V)'] = Df_table_data['Three-phase Voltage (V)'].apply(remove_specific_bracket_value)\n",
    "Df_table_data['Frequency (Hz)'] = Df_table_data['Frequency (Hz)'].apply(remove_specific_bracket_value)\n",
    "Df_table_data\n"
   ]
  },
  {
   "cell_type": "markdown",
   "id": "84aca9c2",
   "metadata": {
    "papermill": {
     "duration": 0.008433,
     "end_time": "2024-10-10T03:55:38.151611",
     "exception": false,
     "start_time": "2024-10-10T03:55:38.143178",
     "status": "completed"
    },
    "tags": []
   },
   "source": [
    "### Saving the Cleaned Dataset:\n",
    "\n",
    "Now that we have cleaned the dataset, we save it as a CSV file. This allows us to easily download and share the data or use it for further analysis."
   ]
  },
  {
   "cell_type": "code",
   "execution_count": 11,
   "id": "d801e0ad",
   "metadata": {
    "execution": {
     "iopub.execute_input": "2024-10-10T03:55:38.171157Z",
     "iopub.status.busy": "2024-10-10T03:55:38.170715Z",
     "iopub.status.idle": "2024-10-10T03:55:38.183734Z",
     "shell.execute_reply": "2024-10-10T03:55:38.182115Z"
    },
    "papermill": {
     "duration": 0.026211,
     "end_time": "2024-10-10T03:55:38.186699",
     "exception": false,
     "start_time": "2024-10-10T03:55:38.160488",
     "status": "completed"
    },
    "tags": []
   },
   "outputs": [],
   "source": [
    "# Save the DataFrame as a CSV file \n",
    "csv_name = '/kaggle/working/mains_electricity_by_country.csv'\n",
    "Df_table_data.to_csv(csv_name, index=False)"
   ]
  }
 ],
 "metadata": {
  "kaggle": {
   "accelerator": "none",
   "dataSources": [],
   "dockerImageVersionId": 30746,
   "isGpuEnabled": false,
   "isInternetEnabled": true,
   "language": "python",
   "sourceType": "notebook"
  },
  "kernelspec": {
   "display_name": "Python 3",
   "language": "python",
   "name": "python3"
  },
  "language_info": {
   "codemirror_mode": {
    "name": "ipython",
    "version": 3
   },
   "file_extension": ".py",
   "mimetype": "text/x-python",
   "name": "python",
   "nbconvert_exporter": "python",
   "pygments_lexer": "ipython3",
   "version": "3.10.13"
  },
  "papermill": {
   "default_parameters": {},
   "duration": 6.922933,
   "end_time": "2024-10-10T03:55:38.822296",
   "environment_variables": {},
   "exception": null,
   "input_path": "__notebook__.ipynb",
   "output_path": "__notebook__.ipynb",
   "parameters": {},
   "start_time": "2024-10-10T03:55:31.899363",
   "version": "2.5.0"
  }
 },
 "nbformat": 4,
 "nbformat_minor": 5
}
